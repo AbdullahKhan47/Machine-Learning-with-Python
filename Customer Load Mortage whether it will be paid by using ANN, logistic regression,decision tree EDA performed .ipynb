{
 "cells": [
  {
   "cell_type": "code",
   "execution_count": 1,
   "metadata": {},
   "outputs": [],
   "source": [
    "import pandas as pd\n",
    "import matplotlib.pyplot as plt\n",
    "import seaborn as sns\n",
    "%matplotlib inline\n",
    "from sklearn.model_selection import train_test_split\n",
    "from sklearn import preprocessing\n",
    "import numpy as np\n",
    "from sklearn import metrics"
   ]
  },
  {
   "cell_type": "code",
   "execution_count": 2,
   "metadata": {},
   "outputs": [],
   "source": [
    "df=pd.read_csv('loans_-906151865.csv')"
   ]
  },
  {
   "cell_type": "code",
   "execution_count": 3,
   "metadata": {},
   "outputs": [
    {
     "data": {
      "text/html": [
       "<div>\n",
       "<style scoped>\n",
       "    .dataframe tbody tr th:only-of-type {\n",
       "        vertical-align: middle;\n",
       "    }\n",
       "\n",
       "    .dataframe tbody tr th {\n",
       "        vertical-align: top;\n",
       "    }\n",
       "\n",
       "    .dataframe thead th {\n",
       "        text-align: right;\n",
       "    }\n",
       "</style>\n",
       "<table border=\"1\" class=\"dataframe\">\n",
       "  <thead>\n",
       "    <tr style=\"text-align: right;\">\n",
       "      <th></th>\n",
       "      <th>Customer ID</th>\n",
       "      <th>Fictional Surname</th>\n",
       "      <th>Age</th>\n",
       "      <th>Gender</th>\n",
       "      <th>Years at address</th>\n",
       "      <th>Employment status</th>\n",
       "      <th>Country</th>\n",
       "      <th>Current debt</th>\n",
       "      <th>Postcode</th>\n",
       "      <th>Income</th>\n",
       "      <th>Own home</th>\n",
       "      <th>CCJs</th>\n",
       "      <th>Loan amount</th>\n",
       "      <th>Outcome</th>\n",
       "    </tr>\n",
       "  </thead>\n",
       "  <tbody>\n",
       "    <tr>\n",
       "      <td>0</td>\n",
       "      <td>945780</td>\n",
       "      <td>Miah</td>\n",
       "      <td>19</td>\n",
       "      <td>F</td>\n",
       "      <td>2</td>\n",
       "      <td>Unemployed</td>\n",
       "      <td>UK</td>\n",
       "      <td>0</td>\n",
       "      <td>TA3 7SH</td>\n",
       "      <td>45500</td>\n",
       "      <td>Rent</td>\n",
       "      <td>1</td>\n",
       "      <td>13234</td>\n",
       "      <td>Paid</td>\n",
       "    </tr>\n",
       "    <tr>\n",
       "      <td>1</td>\n",
       "      <td>747989</td>\n",
       "      <td>Hollis</td>\n",
       "      <td>66</td>\n",
       "      <td>F</td>\n",
       "      <td>13</td>\n",
       "      <td>Unemployed</td>\n",
       "      <td>UK</td>\n",
       "      <td>1080</td>\n",
       "      <td>WV6 8SU</td>\n",
       "      <td>18000</td>\n",
       "      <td>Own</td>\n",
       "      <td>0</td>\n",
       "      <td>5561</td>\n",
       "      <td>Paid</td>\n",
       "    </tr>\n",
       "    <tr>\n",
       "      <td>2</td>\n",
       "      <td>790344</td>\n",
       "      <td>Barker</td>\n",
       "      <td>48</td>\n",
       "      <td>F</td>\n",
       "      <td>4</td>\n",
       "      <td>Self Employed</td>\n",
       "      <td>UK</td>\n",
       "      <td>3690</td>\n",
       "      <td>BT15 5HG</td>\n",
       "      <td>47500</td>\n",
       "      <td>Rent</td>\n",
       "      <td>1</td>\n",
       "      <td>28288</td>\n",
       "      <td>Paid</td>\n",
       "    </tr>\n",
       "    <tr>\n",
       "      <td>3</td>\n",
       "      <td>597668</td>\n",
       "      <td>Titford</td>\n",
       "      <td>67</td>\n",
       "      <td>F</td>\n",
       "      <td>47</td>\n",
       "      <td>Self Employed</td>\n",
       "      <td>UK</td>\n",
       "      <td>6560</td>\n",
       "      <td>GU10 3NH</td>\n",
       "      <td>36000</td>\n",
       "      <td>Mortgage</td>\n",
       "      <td>0</td>\n",
       "      <td>30199</td>\n",
       "      <td>Paid</td>\n",
       "    </tr>\n",
       "    <tr>\n",
       "      <td>4</td>\n",
       "      <td>794971</td>\n",
       "      <td>Berry</td>\n",
       "      <td>70</td>\n",
       "      <td>M</td>\n",
       "      <td>8</td>\n",
       "      <td>Self Employed</td>\n",
       "      <td>UK</td>\n",
       "      <td>9100</td>\n",
       "      <td>GL6 6UB</td>\n",
       "      <td>50500</td>\n",
       "      <td>Own</td>\n",
       "      <td>0</td>\n",
       "      <td>35078</td>\n",
       "      <td>Paid</td>\n",
       "    </tr>\n",
       "  </tbody>\n",
       "</table>\n",
       "</div>"
      ],
      "text/plain": [
       "   Customer ID Fictional Surname  Age Gender  Years at address  \\\n",
       "0       945780              Miah   19      F                 2   \n",
       "1       747989            Hollis   66      F                13   \n",
       "2       790344            Barker   48      F                 4   \n",
       "3       597668           Titford   67      F                47   \n",
       "4       794971             Berry   70      M                 8   \n",
       "\n",
       "  Employment status Country  Current debt  Postcode  Income  Own home  CCJs  \\\n",
       "0        Unemployed      UK             0   TA3 7SH   45500      Rent     1   \n",
       "1        Unemployed      UK          1080   WV6 8SU   18000       Own     0   \n",
       "2     Self Employed      UK          3690  BT15 5HG   47500      Rent     1   \n",
       "3     Self Employed      UK          6560  GU10 3NH   36000  Mortgage     0   \n",
       "4     Self Employed      UK          9100   GL6 6UB   50500       Own     0   \n",
       "\n",
       "   Loan amount Outcome  \n",
       "0        13234    Paid  \n",
       "1         5561    Paid  \n",
       "2        28288    Paid  \n",
       "3        30199    Paid  \n",
       "4        35078    Paid  "
      ]
     },
     "execution_count": 3,
     "metadata": {},
     "output_type": "execute_result"
    }
   ],
   "source": [
    "df.head()"
   ]
  },
  {
   "cell_type": "code",
   "execution_count": 7,
   "metadata": {},
   "outputs": [
    {
     "data": {
      "text/plain": [
       "array([19, 66, 48, 67, 70, 77, 28, 47, 25, 89, 78, 62, 68, 73, 72, 20, 43,\n",
       "       83, 65, 82, 38, 44, 76, 81, 35, 69, 30, 26, 88, 79, 61, 45, 85, 56,\n",
       "       21, 22, 27, 75, 34, 87, 32, 39, 58, 18, 33, 29, 17, 60, 59, 40, 52,\n",
       "       53, 37, 42, 54, 57, 50, 80, 41, 64, 31, 24, 23, 84, 86, 46, 51, 36,\n",
       "       74, 49, 55, 71, 63], dtype=int64)"
      ]
     },
     "execution_count": 7,
     "metadata": {},
     "output_type": "execute_result"
    }
   ],
   "source": [
    "df['Age'].unique()"
   ]
  },
  {
   "cell_type": "code",
   "execution_count": 9,
   "metadata": {},
   "outputs": [
    {
     "data": {
      "text/plain": [
       "89"
      ]
     },
     "execution_count": 9,
     "metadata": {},
     "output_type": "execute_result"
    }
   ],
   "source": [
    "df['Age'].max()"
   ]
  },
  {
   "cell_type": "code",
   "execution_count": 4,
   "metadata": {},
   "outputs": [
    {
     "data": {
      "text/plain": [
       "Customer ID          0\n",
       "Fictional Surname    0\n",
       "Age                  0\n",
       "Gender               0\n",
       "Years at address     0\n",
       "Employment status    0\n",
       "Country              0\n",
       "Current debt         0\n",
       "Postcode             0\n",
       "Income               0\n",
       "Own home             0\n",
       "CCJs                 0\n",
       "Loan amount          0\n",
       "Outcome              0\n",
       "dtype: int64"
      ]
     },
     "execution_count": 4,
     "metadata": {},
     "output_type": "execute_result"
    }
   ],
   "source": [
    "df.isnull().sum()"
   ]
  },
  {
   "cell_type": "code",
   "execution_count": 5,
   "metadata": {},
   "outputs": [
    {
     "data": {
      "text/plain": [
       "(2000, 14)"
      ]
     },
     "execution_count": 5,
     "metadata": {},
     "output_type": "execute_result"
    }
   ],
   "source": [
    "df.shape"
   ]
  },
  {
   "cell_type": "code",
   "execution_count": 13,
   "metadata": {},
   "outputs": [
    {
     "data": {
      "image/png": "[encoded data removed]",
      "text/plain": [
       "<Figure size 720x720 with 1 Axes>"
      ]
     },
     "metadata": {},
     "output_type": "display_data"
    }
   ],
   "source": [
    "sns.set(font_scale=1.4)\n",
    "df['Income'].plot(kind='hist', figsize=(10, 10));\n",
    "plt.xlabel(\"Total Income\", labelpad=14)\n",
    "plt.ylabel(\"Frequency\", labelpad=14)\n",
    "plt.title(\"Distribution of Income\", y=1.015, fontsize=22);"
   ]
  },
  {
   "cell_type": "code",
   "execution_count": 6,
   "metadata": {},
   "outputs": [
    {
     "data": {
      "text/plain": [
       "Paid         1118\n",
       "Defaulted     882\n",
       "Name: Outcome, dtype: int64"
      ]
     },
     "execution_count": 6,
     "metadata": {},
     "output_type": "execute_result"
    }
   ],
   "source": [
    "df['Outcome'].value_counts()"
   ]
  },
  {
   "cell_type": "code",
   "execution_count": 7,
   "metadata": {},
   "outputs": [
    {
     "data": {
      "text/plain": [
       "array(['UK', 'France', 'Germany', 'Spain'], dtype=object)"
      ]
     },
     "execution_count": 7,
     "metadata": {},
     "output_type": "execute_result"
    }
   ],
   "source": [
    "df['Country'].unique()"
   ]
  },
  {
   "cell_type": "code",
   "execution_count": 8,
   "metadata": {},
   "outputs": [],
   "source": [
    "df=df.drop('Customer ID',axis=1)"
   ]
  },
  {
   "cell_type": "code",
   "execution_count": 9,
   "metadata": {},
   "outputs": [
    {
     "data": {
      "text/plain": [
       "(2000, 13)"
      ]
     },
     "execution_count": 9,
     "metadata": {},
     "output_type": "execute_result"
    }
   ],
   "source": [
    "df.shape"
   ]
  },
  {
   "cell_type": "code",
   "execution_count": 10,
   "metadata": {},
   "outputs": [],
   "source": [
    "df=df.drop('Postcode',axis=1)"
   ]
  },
  {
   "cell_type": "code",
   "execution_count": 11,
   "metadata": {},
   "outputs": [
    {
     "data": {
      "text/plain": [
       "(2000, 12)"
      ]
     },
     "execution_count": 11,
     "metadata": {},
     "output_type": "execute_result"
    }
   ],
   "source": [
    "df.shape"
   ]
  },
  {
   "cell_type": "code",
   "execution_count": 12,
   "metadata": {},
   "outputs": [
    {
     "data": {
      "text/html": [
       "<div>\n",
       "<style scoped>\n",
       "    .dataframe tbody tr th:only-of-type {\n",
       "        vertical-align: middle;\n",
       "    }\n",
       "\n",
       "    .dataframe tbody tr th {\n",
       "        vertical-align: top;\n",
       "    }\n",
       "\n",
       "    .dataframe thead th {\n",
       "        text-align: right;\n",
       "    }\n",
       "</style>\n",
       "<table border=\"1\" class=\"dataframe\">\n",
       "  <thead>\n",
       "    <tr style=\"text-align: right;\">\n",
       "      <th></th>\n",
       "      <th>Fictional Surname</th>\n",
       "      <th>Age</th>\n",
       "      <th>Gender</th>\n",
       "      <th>Years at address</th>\n",
       "      <th>Employment status</th>\n",
       "      <th>Country</th>\n",
       "      <th>Current debt</th>\n",
       "      <th>Income</th>\n",
       "      <th>Own home</th>\n",
       "      <th>CCJs</th>\n",
       "      <th>Loan amount</th>\n",
       "      <th>Outcome</th>\n",
       "    </tr>\n",
       "  </thead>\n",
       "  <tbody>\n",
       "    <tr>\n",
       "      <td>0</td>\n",
       "      <td>Miah</td>\n",
       "      <td>19</td>\n",
       "      <td>F</td>\n",
       "      <td>2</td>\n",
       "      <td>Unemployed</td>\n",
       "      <td>UK</td>\n",
       "      <td>0</td>\n",
       "      <td>45500</td>\n",
       "      <td>Rent</td>\n",
       "      <td>1</td>\n",
       "      <td>13234</td>\n",
       "      <td>Paid</td>\n",
       "    </tr>\n",
       "    <tr>\n",
       "      <td>1</td>\n",
       "      <td>Hollis</td>\n",
       "      <td>66</td>\n",
       "      <td>F</td>\n",
       "      <td>13</td>\n",
       "      <td>Unemployed</td>\n",
       "      <td>UK</td>\n",
       "      <td>1080</td>\n",
       "      <td>18000</td>\n",
       "      <td>Own</td>\n",
       "      <td>0</td>\n",
       "      <td>5561</td>\n",
       "      <td>Paid</td>\n",
       "    </tr>\n",
       "    <tr>\n",
       "      <td>2</td>\n",
       "      <td>Barker</td>\n",
       "      <td>48</td>\n",
       "      <td>F</td>\n",
       "      <td>4</td>\n",
       "      <td>Self Employed</td>\n",
       "      <td>UK</td>\n",
       "      <td>3690</td>\n",
       "      <td>47500</td>\n",
       "      <td>Rent</td>\n",
       "      <td>1</td>\n",
       "      <td>28288</td>\n",
       "      <td>Paid</td>\n",
       "    </tr>\n",
       "    <tr>\n",
       "      <td>3</td>\n",
       "      <td>Titford</td>\n",
       "      <td>67</td>\n",
       "      <td>F</td>\n",
       "      <td>47</td>\n",
       "      <td>Self Employed</td>\n",
       "      <td>UK</td>\n",
       "      <td>6560</td>\n",
       "      <td>36000</td>\n",
       "      <td>Mortgage</td>\n",
       "      <td>0</td>\n",
       "      <td>30199</td>\n",
       "      <td>Paid</td>\n",
       "    </tr>\n",
       "    <tr>\n",
       "      <td>4</td>\n",
       "      <td>Berry</td>\n",
       "      <td>70</td>\n",
       "      <td>M</td>\n",
       "      <td>8</td>\n",
       "      <td>Self Employed</td>\n",
       "      <td>UK</td>\n",
       "      <td>9100</td>\n",
       "      <td>50500</td>\n",
       "      <td>Own</td>\n",
       "      <td>0</td>\n",
       "      <td>35078</td>\n",
       "      <td>Paid</td>\n",
       "    </tr>\n",
       "  </tbody>\n",
       "</table>\n",
       "</div>"
      ],
      "text/plain": [
       "  Fictional Surname  Age Gender  Years at address Employment status Country  \\\n",
       "0              Miah   19      F                 2        Unemployed      UK   \n",
       "1            Hollis   66      F                13        Unemployed      UK   \n",
       "2            Barker   48      F                 4     Self Employed      UK   \n",
       "3           Titford   67      F                47     Self Employed      UK   \n",
       "4             Berry   70      M                 8     Self Employed      UK   \n",
       "\n",
       "   Current debt  Income  Own home  CCJs  Loan amount Outcome  \n",
       "0             0   45500      Rent     1        13234    Paid  \n",
       "1          1080   18000       Own     0         5561    Paid  \n",
       "2          3690   47500      Rent     1        28288    Paid  \n",
       "3          6560   36000  Mortgage     0        30199    Paid  \n",
       "4          9100   50500       Own     0        35078    Paid  "
      ]
     },
     "execution_count": 12,
     "metadata": {},
     "output_type": "execute_result"
    }
   ],
   "source": [
    "df.head()"
   ]
  },
  {
   "cell_type": "code",
   "execution_count": 13,
   "metadata": {},
   "outputs": [
    {
     "name": "stderr",
     "output_type": "stream",
     "text": [
      "C:\\Users\\DELL\\Anaconda3\\lib\\site-packages\\ipykernel_launcher.py:1: SettingWithCopyWarning: \n",
      "A value is trying to be set on a copy of a slice from a DataFrame\n",
      "\n",
      "See the caveats in the documentation: http://pandas.pydata.org/pandas-docs/stable/user_guide/indexing.html#returning-a-view-versus-a-copy\n",
      "  \"\"\"Entry point for launching an IPython kernel.\n",
      "C:\\Users\\DELL\\Anaconda3\\lib\\site-packages\\ipykernel_launcher.py:2: SettingWithCopyWarning: \n",
      "A value is trying to be set on a copy of a slice from a DataFrame\n",
      "\n",
      "See the caveats in the documentation: http://pandas.pydata.org/pandas-docs/stable/user_guide/indexing.html#returning-a-view-versus-a-copy\n",
      "  \n",
      "C:\\Users\\DELL\\Anaconda3\\lib\\site-packages\\ipykernel_launcher.py:3: SettingWithCopyWarning: \n",
      "A value is trying to be set on a copy of a slice from a DataFrame\n",
      "\n",
      "See the caveats in the documentation: http://pandas.pydata.org/pandas-docs/stable/user_guide/indexing.html#returning-a-view-versus-a-copy\n",
      "  This is separate from the ipykernel package so we can avoid doing imports until\n",
      "C:\\Users\\DELL\\Anaconda3\\lib\\site-packages\\ipykernel_launcher.py:4: SettingWithCopyWarning: \n",
      "A value is trying to be set on a copy of a slice from a DataFrame\n",
      "\n",
      "See the caveats in the documentation: http://pandas.pydata.org/pandas-docs/stable/user_guide/indexing.html#returning-a-view-versus-a-copy\n",
      "  after removing the cwd from sys.path.\n",
      "C:\\Users\\DELL\\Anaconda3\\lib\\site-packages\\ipykernel_launcher.py:5: SettingWithCopyWarning: \n",
      "A value is trying to be set on a copy of a slice from a DataFrame\n",
      "\n",
      "See the caveats in the documentation: http://pandas.pydata.org/pandas-docs/stable/user_guide/indexing.html#returning-a-view-versus-a-copy\n",
      "  \"\"\"\n",
      "C:\\Users\\DELL\\Anaconda3\\lib\\site-packages\\ipykernel_launcher.py:6: SettingWithCopyWarning: \n",
      "A value is trying to be set on a copy of a slice from a DataFrame\n",
      "\n",
      "See the caveats in the documentation: http://pandas.pydata.org/pandas-docs/stable/user_guide/indexing.html#returning-a-view-versus-a-copy\n",
      "  \n",
      "C:\\Users\\DELL\\Anaconda3\\lib\\site-packages\\ipykernel_launcher.py:7: SettingWithCopyWarning: \n",
      "A value is trying to be set on a copy of a slice from a DataFrame\n",
      "\n",
      "See the caveats in the documentation: http://pandas.pydata.org/pandas-docs/stable/user_guide/indexing.html#returning-a-view-versus-a-copy\n",
      "  import sys\n"
     ]
    }
   ],
   "source": [
    "df[\"Gender\"][df[\"Gender\"]==\"M\"]=1\n",
    "df[\"Gender\"][df[\"Gender\"]==\"F\"]=2\n",
    "df[\"Gender\"][df[\"Gender\"]==\"Female\"]=2\n",
    "df[\"Gender\"][df[\"Gender\"]==\"Male\"]=1\n",
    "df[\"Gender\"][df[\"Gender\"]==\"H\"]=1\n",
    "df[\"Gender\"][df[\"Gender\"]==\"D\"]=2\n",
    "df[\"Gender\"][df[\"Gender\"]==\"N\"]=1"
   ]
  },
  {
   "cell_type": "code",
   "execution_count": 14,
   "metadata": {},
   "outputs": [
    {
     "data": {
      "text/html": [
       "<div>\n",
       "<style scoped>\n",
       "    .dataframe tbody tr th:only-of-type {\n",
       "        vertical-align: middle;\n",
       "    }\n",
       "\n",
       "    .dataframe tbody tr th {\n",
       "        vertical-align: top;\n",
       "    }\n",
       "\n",
       "    .dataframe thead th {\n",
       "        text-align: right;\n",
       "    }\n",
       "</style>\n",
       "<table border=\"1\" class=\"dataframe\">\n",
       "  <thead>\n",
       "    <tr style=\"text-align: right;\">\n",
       "      <th></th>\n",
       "      <th>Fictional Surname</th>\n",
       "      <th>Age</th>\n",
       "      <th>Gender</th>\n",
       "      <th>Years at address</th>\n",
       "      <th>Employment status</th>\n",
       "      <th>Country</th>\n",
       "      <th>Current debt</th>\n",
       "      <th>Income</th>\n",
       "      <th>Own home</th>\n",
       "      <th>CCJs</th>\n",
       "      <th>Loan amount</th>\n",
       "      <th>Outcome</th>\n",
       "    </tr>\n",
       "  </thead>\n",
       "  <tbody>\n",
       "    <tr>\n",
       "      <td>0</td>\n",
       "      <td>Miah</td>\n",
       "      <td>19</td>\n",
       "      <td>2</td>\n",
       "      <td>2</td>\n",
       "      <td>Unemployed</td>\n",
       "      <td>UK</td>\n",
       "      <td>0</td>\n",
       "      <td>45500</td>\n",
       "      <td>Rent</td>\n",
       "      <td>1</td>\n",
       "      <td>13234</td>\n",
       "      <td>Paid</td>\n",
       "    </tr>\n",
       "    <tr>\n",
       "      <td>1</td>\n",
       "      <td>Hollis</td>\n",
       "      <td>66</td>\n",
       "      <td>2</td>\n",
       "      <td>13</td>\n",
       "      <td>Unemployed</td>\n",
       "      <td>UK</td>\n",
       "      <td>1080</td>\n",
       "      <td>18000</td>\n",
       "      <td>Own</td>\n",
       "      <td>0</td>\n",
       "      <td>5561</td>\n",
       "      <td>Paid</td>\n",
       "    </tr>\n",
       "    <tr>\n",
       "      <td>2</td>\n",
       "      <td>Barker</td>\n",
       "      <td>48</td>\n",
       "      <td>2</td>\n",
       "      <td>4</td>\n",
       "      <td>Self Employed</td>\n",
       "      <td>UK</td>\n",
       "      <td>3690</td>\n",
       "      <td>47500</td>\n",
       "      <td>Rent</td>\n",
       "      <td>1</td>\n",
       "      <td>28288</td>\n",
       "      <td>Paid</td>\n",
       "    </tr>\n",
       "    <tr>\n",
       "      <td>3</td>\n",
       "      <td>Titford</td>\n",
       "      <td>67</td>\n",
       "      <td>2</td>\n",
       "      <td>47</td>\n",
       "      <td>Self Employed</td>\n",
       "      <td>UK</td>\n",
       "      <td>6560</td>\n",
       "      <td>36000</td>\n",
       "      <td>Mortgage</td>\n",
       "      <td>0</td>\n",
       "      <td>30199</td>\n",
       "      <td>Paid</td>\n",
       "    </tr>\n",
       "    <tr>\n",
       "      <td>4</td>\n",
       "      <td>Berry</td>\n",
       "      <td>70</td>\n",
       "      <td>1</td>\n",
       "      <td>8</td>\n",
       "      <td>Self Employed</td>\n",
       "      <td>UK</td>\n",
       "      <td>9100</td>\n",
       "      <td>50500</td>\n",
       "      <td>Own</td>\n",
       "      <td>0</td>\n",
       "      <td>35078</td>\n",
       "      <td>Paid</td>\n",
       "    </tr>\n",
       "  </tbody>\n",
       "</table>\n",
       "</div>"
      ],
      "text/plain": [
       "  Fictional Surname  Age Gender  Years at address Employment status Country  \\\n",
       "0              Miah   19      2                 2        Unemployed      UK   \n",
       "1            Hollis   66      2                13        Unemployed      UK   \n",
       "2            Barker   48      2                 4     Self Employed      UK   \n",
       "3           Titford   67      2                47     Self Employed      UK   \n",
       "4             Berry   70      1                 8     Self Employed      UK   \n",
       "\n",
       "   Current debt  Income  Own home  CCJs  Loan amount Outcome  \n",
       "0             0   45500      Rent     1        13234    Paid  \n",
       "1          1080   18000       Own     0         5561    Paid  \n",
       "2          3690   47500      Rent     1        28288    Paid  \n",
       "3          6560   36000  Mortgage     0        30199    Paid  \n",
       "4          9100   50500       Own     0        35078    Paid  "
      ]
     },
     "execution_count": 14,
     "metadata": {},
     "output_type": "execute_result"
    }
   ],
   "source": [
    "df.head()"
   ]
  },
  {
   "cell_type": "code",
   "execution_count": 15,
   "metadata": {},
   "outputs": [
    {
     "name": "stderr",
     "output_type": "stream",
     "text": [
      "C:\\Users\\DELL\\Anaconda3\\lib\\site-packages\\ipykernel_launcher.py:1: SettingWithCopyWarning: \n",
      "A value is trying to be set on a copy of a slice from a DataFrame\n",
      "\n",
      "See the caveats in the documentation: http://pandas.pydata.org/pandas-docs/stable/user_guide/indexing.html#returning-a-view-versus-a-copy\n",
      "  \"\"\"Entry point for launching an IPython kernel.\n",
      "C:\\Users\\DELL\\Anaconda3\\lib\\site-packages\\ipykernel_launcher.py:2: SettingWithCopyWarning: \n",
      "A value is trying to be set on a copy of a slice from a DataFrame\n",
      "\n",
      "See the caveats in the documentation: http://pandas.pydata.org/pandas-docs/stable/user_guide/indexing.html#returning-a-view-versus-a-copy\n",
      "  \n",
      "C:\\Users\\DELL\\Anaconda3\\lib\\site-packages\\ipykernel_launcher.py:3: SettingWithCopyWarning: \n",
      "A value is trying to be set on a copy of a slice from a DataFrame\n",
      "\n",
      "See the caveats in the documentation: http://pandas.pydata.org/pandas-docs/stable/user_guide/indexing.html#returning-a-view-versus-a-copy\n",
      "  This is separate from the ipykernel package so we can avoid doing imports until\n",
      "C:\\Users\\DELL\\Anaconda3\\lib\\site-packages\\ipykernel_launcher.py:4: SettingWithCopyWarning: \n",
      "A value is trying to be set on a copy of a slice from a DataFrame\n",
      "\n",
      "See the caveats in the documentation: http://pandas.pydata.org/pandas-docs/stable/user_guide/indexing.html#returning-a-view-versus-a-copy\n",
      "  after removing the cwd from sys.path.\n"
     ]
    }
   ],
   "source": [
    "df[\"Country\"][df[\"Country\"]==\"UK\"]=1\n",
    "df[\"Country\"][df[\"Country\"]==\"France\"]=2\n",
    "df[\"Country\"][df[\"Country\"]==\"Germany\"]=3\n",
    "df[\"Country\"][df[\"Country\"]==\"Spain\"]=4"
   ]
  },
  {
   "cell_type": "code",
   "execution_count": 16,
   "metadata": {},
   "outputs": [
    {
     "data": {
      "text/html": [
       "<div>\n",
       "<style scoped>\n",
       "    .dataframe tbody tr th:only-of-type {\n",
       "        vertical-align: middle;\n",
       "    }\n",
       "\n",
       "    .dataframe tbody tr th {\n",
       "        vertical-align: top;\n",
       "    }\n",
       "\n",
       "    .dataframe thead th {\n",
       "        text-align: right;\n",
       "    }\n",
       "</style>\n",
       "<table border=\"1\" class=\"dataframe\">\n",
       "  <thead>\n",
       "    <tr style=\"text-align: right;\">\n",
       "      <th></th>\n",
       "      <th>Fictional Surname</th>\n",
       "      <th>Age</th>\n",
       "      <th>Gender</th>\n",
       "      <th>Years at address</th>\n",
       "      <th>Employment status</th>\n",
       "      <th>Country</th>\n",
       "      <th>Current debt</th>\n",
       "      <th>Income</th>\n",
       "      <th>Own home</th>\n",
       "      <th>CCJs</th>\n",
       "      <th>Loan amount</th>\n",
       "      <th>Outcome</th>\n",
       "    </tr>\n",
       "  </thead>\n",
       "  <tbody>\n",
       "    <tr>\n",
       "      <td>0</td>\n",
       "      <td>Miah</td>\n",
       "      <td>19</td>\n",
       "      <td>2</td>\n",
       "      <td>2</td>\n",
       "      <td>Unemployed</td>\n",
       "      <td>1</td>\n",
       "      <td>0</td>\n",
       "      <td>45500</td>\n",
       "      <td>Rent</td>\n",
       "      <td>1</td>\n",
       "      <td>13234</td>\n",
       "      <td>Paid</td>\n",
       "    </tr>\n",
       "    <tr>\n",
       "      <td>1</td>\n",
       "      <td>Hollis</td>\n",
       "      <td>66</td>\n",
       "      <td>2</td>\n",
       "      <td>13</td>\n",
       "      <td>Unemployed</td>\n",
       "      <td>1</td>\n",
       "      <td>1080</td>\n",
       "      <td>18000</td>\n",
       "      <td>Own</td>\n",
       "      <td>0</td>\n",
       "      <td>5561</td>\n",
       "      <td>Paid</td>\n",
       "    </tr>\n",
       "    <tr>\n",
       "      <td>2</td>\n",
       "      <td>Barker</td>\n",
       "      <td>48</td>\n",
       "      <td>2</td>\n",
       "      <td>4</td>\n",
       "      <td>Self Employed</td>\n",
       "      <td>1</td>\n",
       "      <td>3690</td>\n",
       "      <td>47500</td>\n",
       "      <td>Rent</td>\n",
       "      <td>1</td>\n",
       "      <td>28288</td>\n",
       "      <td>Paid</td>\n",
       "    </tr>\n",
       "    <tr>\n",
       "      <td>3</td>\n",
       "      <td>Titford</td>\n",
       "      <td>67</td>\n",
       "      <td>2</td>\n",
       "      <td>47</td>\n",
       "      <td>Self Employed</td>\n",
       "      <td>1</td>\n",
       "      <td>6560</td>\n",
       "      <td>36000</td>\n",
       "      <td>Mortgage</td>\n",
       "      <td>0</td>\n",
       "      <td>30199</td>\n",
       "      <td>Paid</td>\n",
       "    </tr>\n",
       "    <tr>\n",
       "      <td>4</td>\n",
       "      <td>Berry</td>\n",
       "      <td>70</td>\n",
       "      <td>1</td>\n",
       "      <td>8</td>\n",
       "      <td>Self Employed</td>\n",
       "      <td>1</td>\n",
       "      <td>9100</td>\n",
       "      <td>50500</td>\n",
       "      <td>Own</td>\n",
       "      <td>0</td>\n",
       "      <td>35078</td>\n",
       "      <td>Paid</td>\n",
       "    </tr>\n",
       "  </tbody>\n",
       "</table>\n",
       "</div>"
      ],
      "text/plain": [
       "  Fictional Surname  Age Gender  Years at address Employment status Country  \\\n",
       "0              Miah   19      2                 2        Unemployed       1   \n",
       "1            Hollis   66      2                13        Unemployed       1   \n",
       "2            Barker   48      2                 4     Self Employed       1   \n",
       "3           Titford   67      2                47     Self Employed       1   \n",
       "4             Berry   70      1                 8     Self Employed       1   \n",
       "\n",
       "   Current debt  Income  Own home  CCJs  Loan amount Outcome  \n",
       "0             0   45500      Rent     1        13234    Paid  \n",
       "1          1080   18000       Own     0         5561    Paid  \n",
       "2          3690   47500      Rent     1        28288    Paid  \n",
       "3          6560   36000  Mortgage     0        30199    Paid  \n",
       "4          9100   50500       Own     0        35078    Paid  "
      ]
     },
     "execution_count": 16,
     "metadata": {},
     "output_type": "execute_result"
    }
   ],
   "source": [
    "df.head()"
   ]
  },
  {
   "cell_type": "code",
   "execution_count": 17,
   "metadata": {},
   "outputs": [
    {
     "data": {
      "text/plain": [
       "array(['Unemployed', 'Self Employed', 'Employed', 'Retired'], dtype=object)"
      ]
     },
     "execution_count": 17,
     "metadata": {},
     "output_type": "execute_result"
    }
   ],
   "source": [
    "df['Employment status'].unique()"
   ]
  },
  {
   "cell_type": "code",
   "execution_count": 18,
   "metadata": {},
   "outputs": [
    {
     "name": "stderr",
     "output_type": "stream",
     "text": [
      "C:\\Users\\DELL\\Anaconda3\\lib\\site-packages\\ipykernel_launcher.py:1: SettingWithCopyWarning: \n",
      "A value is trying to be set on a copy of a slice from a DataFrame\n",
      "\n",
      "See the caveats in the documentation: http://pandas.pydata.org/pandas-docs/stable/user_guide/indexing.html#returning-a-view-versus-a-copy\n",
      "  \"\"\"Entry point for launching an IPython kernel.\n",
      "C:\\Users\\DELL\\Anaconda3\\lib\\site-packages\\ipykernel_launcher.py:2: SettingWithCopyWarning: \n",
      "A value is trying to be set on a copy of a slice from a DataFrame\n",
      "\n",
      "See the caveats in the documentation: http://pandas.pydata.org/pandas-docs/stable/user_guide/indexing.html#returning-a-view-versus-a-copy\n",
      "  \n",
      "C:\\Users\\DELL\\Anaconda3\\lib\\site-packages\\ipykernel_launcher.py:3: SettingWithCopyWarning: \n",
      "A value is trying to be set on a copy of a slice from a DataFrame\n",
      "\n",
      "See the caveats in the documentation: http://pandas.pydata.org/pandas-docs/stable/user_guide/indexing.html#returning-a-view-versus-a-copy\n",
      "  This is separate from the ipykernel package so we can avoid doing imports until\n",
      "C:\\Users\\DELL\\Anaconda3\\lib\\site-packages\\ipykernel_launcher.py:4: SettingWithCopyWarning: \n",
      "A value is trying to be set on a copy of a slice from a DataFrame\n",
      "\n",
      "See the caveats in the documentation: http://pandas.pydata.org/pandas-docs/stable/user_guide/indexing.html#returning-a-view-versus-a-copy\n",
      "  after removing the cwd from sys.path.\n"
     ]
    }
   ],
   "source": [
    "df[\"Employment status\"][df[\"Employment status\"]==\"Unemployed\"]=1\n",
    "df[\"Employment status\"][df[\"Employment status\"]==\"Self Employed\"]=2\n",
    "df[\"Employment status\"][df[\"Employment status\"]==\"Employed\"]=3\n",
    "df[\"Employment status\"][df[\"Employment status\"]==\"Retired\"]=4"
   ]
  },
  {
   "cell_type": "code",
   "execution_count": 19,
   "metadata": {},
   "outputs": [
    {
     "data": {
      "text/html": [
       "<div>\n",
       "<style scoped>\n",
       "    .dataframe tbody tr th:only-of-type {\n",
       "        vertical-align: middle;\n",
       "    }\n",
       "\n",
       "    .dataframe tbody tr th {\n",
       "        vertical-align: top;\n",
       "    }\n",
       "\n",
       "    .dataframe thead th {\n",
       "        text-align: right;\n",
       "    }\n",
       "</style>\n",
       "<table border=\"1\" class=\"dataframe\">\n",
       "  <thead>\n",
       "    <tr style=\"text-align: right;\">\n",
       "      <th></th>\n",
       "      <th>Fictional Surname</th>\n",
       "      <th>Age</th>\n",
       "      <th>Gender</th>\n",
       "      <th>Years at address</th>\n",
       "      <th>Employment status</th>\n",
       "      <th>Country</th>\n",
       "      <th>Current debt</th>\n",
       "      <th>Income</th>\n",
       "      <th>Own home</th>\n",
       "      <th>CCJs</th>\n",
       "      <th>Loan amount</th>\n",
       "      <th>Outcome</th>\n",
       "    </tr>\n",
       "  </thead>\n",
       "  <tbody>\n",
       "    <tr>\n",
       "      <td>0</td>\n",
       "      <td>Miah</td>\n",
       "      <td>19</td>\n",
       "      <td>2</td>\n",
       "      <td>2</td>\n",
       "      <td>1</td>\n",
       "      <td>1</td>\n",
       "      <td>0</td>\n",
       "      <td>45500</td>\n",
       "      <td>Rent</td>\n",
       "      <td>1</td>\n",
       "      <td>13234</td>\n",
       "      <td>Paid</td>\n",
       "    </tr>\n",
       "    <tr>\n",
       "      <td>1</td>\n",
       "      <td>Hollis</td>\n",
       "      <td>66</td>\n",
       "      <td>2</td>\n",
       "      <td>13</td>\n",
       "      <td>1</td>\n",
       "      <td>1</td>\n",
       "      <td>1080</td>\n",
       "      <td>18000</td>\n",
       "      <td>Own</td>\n",
       "      <td>0</td>\n",
       "      <td>5561</td>\n",
       "      <td>Paid</td>\n",
       "    </tr>\n",
       "    <tr>\n",
       "      <td>2</td>\n",
       "      <td>Barker</td>\n",
       "      <td>48</td>\n",
       "      <td>2</td>\n",
       "      <td>4</td>\n",
       "      <td>2</td>\n",
       "      <td>1</td>\n",
       "      <td>3690</td>\n",
       "      <td>47500</td>\n",
       "      <td>Rent</td>\n",
       "      <td>1</td>\n",
       "      <td>28288</td>\n",
       "      <td>Paid</td>\n",
       "    </tr>\n",
       "    <tr>\n",
       "      <td>3</td>\n",
       "      <td>Titford</td>\n",
       "      <td>67</td>\n",
       "      <td>2</td>\n",
       "      <td>47</td>\n",
       "      <td>2</td>\n",
       "      <td>1</td>\n",
       "      <td>6560</td>\n",
       "      <td>36000</td>\n",
       "      <td>Mortgage</td>\n",
       "      <td>0</td>\n",
       "      <td>30199</td>\n",
       "      <td>Paid</td>\n",
       "    </tr>\n",
       "    <tr>\n",
       "      <td>4</td>\n",
       "      <td>Berry</td>\n",
       "      <td>70</td>\n",
       "      <td>1</td>\n",
       "      <td>8</td>\n",
       "      <td>2</td>\n",
       "      <td>1</td>\n",
       "      <td>9100</td>\n",
       "      <td>50500</td>\n",
       "      <td>Own</td>\n",
       "      <td>0</td>\n",
       "      <td>35078</td>\n",
       "      <td>Paid</td>\n",
       "    </tr>\n",
       "  </tbody>\n",
       "</table>\n",
       "</div>"
      ],
      "text/plain": [
       "  Fictional Surname  Age Gender  Years at address Employment status Country  \\\n",
       "0              Miah   19      2                 2                 1       1   \n",
       "1            Hollis   66      2                13                 1       1   \n",
       "2            Barker   48      2                 4                 2       1   \n",
       "3           Titford   67      2                47                 2       1   \n",
       "4             Berry   70      1                 8                 2       1   \n",
       "\n",
       "   Current debt  Income  Own home  CCJs  Loan amount Outcome  \n",
       "0             0   45500      Rent     1        13234    Paid  \n",
       "1          1080   18000       Own     0         5561    Paid  \n",
       "2          3690   47500      Rent     1        28288    Paid  \n",
       "3          6560   36000  Mortgage     0        30199    Paid  \n",
       "4          9100   50500       Own     0        35078    Paid  "
      ]
     },
     "execution_count": 19,
     "metadata": {},
     "output_type": "execute_result"
    }
   ],
   "source": [
    "df.head()"
   ]
  },
  {
   "cell_type": "code",
   "execution_count": 20,
   "metadata": {},
   "outputs": [
    {
     "data": {
      "text/plain": [
       "array(['Rent', 'Own', 'Mortgage'], dtype=object)"
      ]
     },
     "execution_count": 20,
     "metadata": {},
     "output_type": "execute_result"
    }
   ],
   "source": [
    "df['Own home'].unique()"
   ]
  },
  {
   "cell_type": "code",
   "execution_count": 21,
   "metadata": {},
   "outputs": [
    {
     "name": "stderr",
     "output_type": "stream",
     "text": [
      "C:\\Users\\DELL\\Anaconda3\\lib\\site-packages\\ipykernel_launcher.py:1: SettingWithCopyWarning: \n",
      "A value is trying to be set on a copy of a slice from a DataFrame\n",
      "\n",
      "See the caveats in the documentation: http://pandas.pydata.org/pandas-docs/stable/user_guide/indexing.html#returning-a-view-versus-a-copy\n",
      "  \"\"\"Entry point for launching an IPython kernel.\n",
      "C:\\Users\\DELL\\Anaconda3\\lib\\site-packages\\ipykernel_launcher.py:2: SettingWithCopyWarning: \n",
      "A value is trying to be set on a copy of a slice from a DataFrame\n",
      "\n",
      "See the caveats in the documentation: http://pandas.pydata.org/pandas-docs/stable/user_guide/indexing.html#returning-a-view-versus-a-copy\n",
      "  \n",
      "C:\\Users\\DELL\\Anaconda3\\lib\\site-packages\\ipykernel_launcher.py:3: SettingWithCopyWarning: \n",
      "A value is trying to be set on a copy of a slice from a DataFrame\n",
      "\n",
      "See the caveats in the documentation: http://pandas.pydata.org/pandas-docs/stable/user_guide/indexing.html#returning-a-view-versus-a-copy\n",
      "  This is separate from the ipykernel package so we can avoid doing imports until\n"
     ]
    }
   ],
   "source": [
    "df[\"Own home\"][df[\"Own home\"]==\"Rent\"]=1\n",
    "df[\"Own home\"][df[\"Own home\"]==\"Own\"]=2\n",
    "df[\"Own home\"][df[\"Own home\"]==\"Mortgage\"]=3"
   ]
  },
  {
   "cell_type": "code",
   "execution_count": 22,
   "metadata": {},
   "outputs": [
    {
     "data": {
      "text/html": [
       "<div>\n",
       "<style scoped>\n",
       "    .dataframe tbody tr th:only-of-type {\n",
       "        vertical-align: middle;\n",
       "    }\n",
       "\n",
       "    .dataframe tbody tr th {\n",
       "        vertical-align: top;\n",
       "    }\n",
       "\n",
       "    .dataframe thead th {\n",
       "        text-align: right;\n",
       "    }\n",
       "</style>\n",
       "<table border=\"1\" class=\"dataframe\">\n",
       "  <thead>\n",
       "    <tr style=\"text-align: right;\">\n",
       "      <th></th>\n",
       "      <th>Fictional Surname</th>\n",
       "      <th>Age</th>\n",
       "      <th>Gender</th>\n",
       "      <th>Years at address</th>\n",
       "      <th>Employment status</th>\n",
       "      <th>Country</th>\n",
       "      <th>Current debt</th>\n",
       "      <th>Income</th>\n",
       "      <th>Own home</th>\n",
       "      <th>CCJs</th>\n",
       "      <th>Loan amount</th>\n",
       "      <th>Outcome</th>\n",
       "    </tr>\n",
       "  </thead>\n",
       "  <tbody>\n",
       "    <tr>\n",
       "      <td>0</td>\n",
       "      <td>Miah</td>\n",
       "      <td>19</td>\n",
       "      <td>2</td>\n",
       "      <td>2</td>\n",
       "      <td>1</td>\n",
       "      <td>1</td>\n",
       "      <td>0</td>\n",
       "      <td>45500</td>\n",
       "      <td>1</td>\n",
       "      <td>1</td>\n",
       "      <td>13234</td>\n",
       "      <td>Paid</td>\n",
       "    </tr>\n",
       "    <tr>\n",
       "      <td>1</td>\n",
       "      <td>Hollis</td>\n",
       "      <td>66</td>\n",
       "      <td>2</td>\n",
       "      <td>13</td>\n",
       "      <td>1</td>\n",
       "      <td>1</td>\n",
       "      <td>1080</td>\n",
       "      <td>18000</td>\n",
       "      <td>2</td>\n",
       "      <td>0</td>\n",
       "      <td>5561</td>\n",
       "      <td>Paid</td>\n",
       "    </tr>\n",
       "    <tr>\n",
       "      <td>2</td>\n",
       "      <td>Barker</td>\n",
       "      <td>48</td>\n",
       "      <td>2</td>\n",
       "      <td>4</td>\n",
       "      <td>2</td>\n",
       "      <td>1</td>\n",
       "      <td>3690</td>\n",
       "      <td>47500</td>\n",
       "      <td>1</td>\n",
       "      <td>1</td>\n",
       "      <td>28288</td>\n",
       "      <td>Paid</td>\n",
       "    </tr>\n",
       "    <tr>\n",
       "      <td>3</td>\n",
       "      <td>Titford</td>\n",
       "      <td>67</td>\n",
       "      <td>2</td>\n",
       "      <td>47</td>\n",
       "      <td>2</td>\n",
       "      <td>1</td>\n",
       "      <td>6560</td>\n",
       "      <td>36000</td>\n",
       "      <td>3</td>\n",
       "      <td>0</td>\n",
       "      <td>30199</td>\n",
       "      <td>Paid</td>\n",
       "    </tr>\n",
       "    <tr>\n",
       "      <td>4</td>\n",
       "      <td>Berry</td>\n",
       "      <td>70</td>\n",
       "      <td>1</td>\n",
       "      <td>8</td>\n",
       "      <td>2</td>\n",
       "      <td>1</td>\n",
       "      <td>9100</td>\n",
       "      <td>50500</td>\n",
       "      <td>2</td>\n",
       "      <td>0</td>\n",
       "      <td>35078</td>\n",
       "      <td>Paid</td>\n",
       "    </tr>\n",
       "  </tbody>\n",
       "</table>\n",
       "</div>"
      ],
      "text/plain": [
       "  Fictional Surname  Age Gender  Years at address Employment status Country  \\\n",
       "0              Miah   19      2                 2                 1       1   \n",
       "1            Hollis   66      2                13                 1       1   \n",
       "2            Barker   48      2                 4                 2       1   \n",
       "3           Titford   67      2                47                 2       1   \n",
       "4             Berry   70      1                 8                 2       1   \n",
       "\n",
       "   Current debt  Income Own home  CCJs  Loan amount Outcome  \n",
       "0             0   45500        1     1        13234    Paid  \n",
       "1          1080   18000        2     0         5561    Paid  \n",
       "2          3690   47500        1     1        28288    Paid  \n",
       "3          6560   36000        3     0        30199    Paid  \n",
       "4          9100   50500        2     0        35078    Paid  "
      ]
     },
     "execution_count": 22,
     "metadata": {},
     "output_type": "execute_result"
    }
   ],
   "source": [
    "df.head()"
   ]
  },
  {
   "cell_type": "code",
   "execution_count": 23,
   "metadata": {},
   "outputs": [
    {
     "data": {
      "text/plain": [
       "array(['Paid', 'Defaulted'], dtype=object)"
      ]
     },
     "execution_count": 23,
     "metadata": {},
     "output_type": "execute_result"
    }
   ],
   "source": [
    "df['Outcome'].unique()"
   ]
  },
  {
   "cell_type": "code",
   "execution_count": 24,
   "metadata": {},
   "outputs": [
    {
     "name": "stderr",
     "output_type": "stream",
     "text": [
      "C:\\Users\\DELL\\Anaconda3\\lib\\site-packages\\ipykernel_launcher.py:1: SettingWithCopyWarning: \n",
      "A value is trying to be set on a copy of a slice from a DataFrame\n",
      "\n",
      "See the caveats in the documentation: http://pandas.pydata.org/pandas-docs/stable/user_guide/indexing.html#returning-a-view-versus-a-copy\n",
      "  \"\"\"Entry point for launching an IPython kernel.\n",
      "C:\\Users\\DELL\\Anaconda3\\lib\\site-packages\\ipykernel_launcher.py:2: SettingWithCopyWarning: \n",
      "A value is trying to be set on a copy of a slice from a DataFrame\n",
      "\n",
      "See the caveats in the documentation: http://pandas.pydata.org/pandas-docs/stable/user_guide/indexing.html#returning-a-view-versus-a-copy\n",
      "  \n"
     ]
    }
   ],
   "source": [
    "df[\"Outcome\"][df[\"Outcome\"]==\"Paid\"]=1\n",
    "df[\"Outcome\"][df[\"Outcome\"]==\"Defaulted\"]=2"
   ]
  },
  {
   "cell_type": "code",
   "execution_count": 25,
   "metadata": {},
   "outputs": [
    {
     "data": {
      "text/html": [
       "<div>\n",
       "<style scoped>\n",
       "    .dataframe tbody tr th:only-of-type {\n",
       "        vertical-align: middle;\n",
       "    }\n",
       "\n",
       "    .dataframe tbody tr th {\n",
       "        vertical-align: top;\n",
       "    }\n",
       "\n",
       "    .dataframe thead th {\n",
       "        text-align: right;\n",
       "    }\n",
       "</style>\n",
       "<table border=\"1\" class=\"dataframe\">\n",
       "  <thead>\n",
       "    <tr style=\"text-align: right;\">\n",
       "      <th></th>\n",
       "      <th>Fictional Surname</th>\n",
       "      <th>Age</th>\n",
       "      <th>Gender</th>\n",
       "      <th>Years at address</th>\n",
       "      <th>Employment status</th>\n",
       "      <th>Country</th>\n",
       "      <th>Current debt</th>\n",
       "      <th>Income</th>\n",
       "      <th>Own home</th>\n",
       "      <th>CCJs</th>\n",
       "      <th>Loan amount</th>\n",
       "      <th>Outcome</th>\n",
       "    </tr>\n",
       "  </thead>\n",
       "  <tbody>\n",
       "    <tr>\n",
       "      <td>0</td>\n",
       "      <td>Miah</td>\n",
       "      <td>19</td>\n",
       "      <td>2</td>\n",
       "      <td>2</td>\n",
       "      <td>1</td>\n",
       "      <td>1</td>\n",
       "      <td>0</td>\n",
       "      <td>45500</td>\n",
       "      <td>1</td>\n",
       "      <td>1</td>\n",
       "      <td>13234</td>\n",
       "      <td>1</td>\n",
       "    </tr>\n",
       "    <tr>\n",
       "      <td>1</td>\n",
       "      <td>Hollis</td>\n",
       "      <td>66</td>\n",
       "      <td>2</td>\n",
       "      <td>13</td>\n",
       "      <td>1</td>\n",
       "      <td>1</td>\n",
       "      <td>1080</td>\n",
       "      <td>18000</td>\n",
       "      <td>2</td>\n",
       "      <td>0</td>\n",
       "      <td>5561</td>\n",
       "      <td>1</td>\n",
       "    </tr>\n",
       "    <tr>\n",
       "      <td>2</td>\n",
       "      <td>Barker</td>\n",
       "      <td>48</td>\n",
       "      <td>2</td>\n",
       "      <td>4</td>\n",
       "      <td>2</td>\n",
       "      <td>1</td>\n",
       "      <td>3690</td>\n",
       "      <td>47500</td>\n",
       "      <td>1</td>\n",
       "      <td>1</td>\n",
       "      <td>28288</td>\n",
       "      <td>1</td>\n",
       "    </tr>\n",
       "    <tr>\n",
       "      <td>3</td>\n",
       "      <td>Titford</td>\n",
       "      <td>67</td>\n",
       "      <td>2</td>\n",
       "      <td>47</td>\n",
       "      <td>2</td>\n",
       "      <td>1</td>\n",
       "      <td>6560</td>\n",
       "      <td>36000</td>\n",
       "      <td>3</td>\n",
       "      <td>0</td>\n",
       "      <td>30199</td>\n",
       "      <td>1</td>\n",
       "    </tr>\n",
       "    <tr>\n",
       "      <td>4</td>\n",
       "      <td>Berry</td>\n",
       "      <td>70</td>\n",
       "      <td>1</td>\n",
       "      <td>8</td>\n",
       "      <td>2</td>\n",
       "      <td>1</td>\n",
       "      <td>9100</td>\n",
       "      <td>50500</td>\n",
       "      <td>2</td>\n",
       "      <td>0</td>\n",
       "      <td>35078</td>\n",
       "      <td>1</td>\n",
       "    </tr>\n",
       "  </tbody>\n",
       "</table>\n",
       "</div>"
      ],
      "text/plain": [
       "  Fictional Surname  Age Gender  Years at address Employment status Country  \\\n",
       "0              Miah   19      2                 2                 1       1   \n",
       "1            Hollis   66      2                13                 1       1   \n",
       "2            Barker   48      2                 4                 2       1   \n",
       "3           Titford   67      2                47                 2       1   \n",
       "4             Berry   70      1                 8                 2       1   \n",
       "\n",
       "   Current debt  Income Own home  CCJs  Loan amount Outcome  \n",
       "0             0   45500        1     1        13234       1  \n",
       "1          1080   18000        2     0         5561       1  \n",
       "2          3690   47500        1     1        28288       1  \n",
       "3          6560   36000        3     0        30199       1  \n",
       "4          9100   50500        2     0        35078       1  "
      ]
     },
     "execution_count": 25,
     "metadata": {},
     "output_type": "execute_result"
    }
   ],
   "source": [
    "df.head()"
   ]
  },
  {
   "cell_type": "code",
   "execution_count": 26,
   "metadata": {},
   "outputs": [
    {
     "data": {
      "text/plain": [
       "(2000, 12)"
      ]
     },
     "execution_count": 26,
     "metadata": {},
     "output_type": "execute_result"
    }
   ],
   "source": [
    "df.shape"
   ]
  },
  {
   "cell_type": "code",
   "execution_count": 29,
   "metadata": {},
   "outputs": [],
   "source": [
    "le = preprocessing.LabelEncoder()"
   ]
  },
  {
   "cell_type": "code",
   "execution_count": 30,
   "metadata": {},
   "outputs": [],
   "source": [
    "yencoded=le.fit_transform(df['Fictional Surname'])"
   ]
  },
  {
   "cell_type": "code",
   "execution_count": 31,
   "metadata": {},
   "outputs": [
    {
     "data": {
      "text/plain": [
       "array([912, 633,  82, ..., 130, 541, 701])"
      ]
     },
     "execution_count": 31,
     "metadata": {},
     "output_type": "execute_result"
    }
   ],
   "source": [
    "yencoded"
   ]
  },
  {
   "cell_type": "code",
   "execution_count": 32,
   "metadata": {},
   "outputs": [
    {
     "data": {
      "text/plain": [
       "1461"
      ]
     },
     "execution_count": 32,
     "metadata": {},
     "output_type": "execute_result"
    }
   ],
   "source": [
    "yencoded.max()"
   ]
  },
  {
   "cell_type": "code",
   "execution_count": 33,
   "metadata": {},
   "outputs": [
    {
     "data": {
      "text/plain": [
       "0"
      ]
     },
     "execution_count": 33,
     "metadata": {},
     "output_type": "execute_result"
    }
   ],
   "source": [
    "yencoded.min()"
   ]
  },
  {
   "cell_type": "code",
   "execution_count": 34,
   "metadata": {},
   "outputs": [],
   "source": [
    "df['Fictional Name']=yencoded"
   ]
  },
  {
   "cell_type": "code",
   "execution_count": 35,
   "metadata": {},
   "outputs": [
    {
     "data": {
      "text/html": [
       "<div>\n",
       "<style scoped>\n",
       "    .dataframe tbody tr th:only-of-type {\n",
       "        vertical-align: middle;\n",
       "    }\n",
       "\n",
       "    .dataframe tbody tr th {\n",
       "        vertical-align: top;\n",
       "    }\n",
       "\n",
       "    .dataframe thead th {\n",
       "        text-align: right;\n",
       "    }\n",
       "</style>\n",
       "<table border=\"1\" class=\"dataframe\">\n",
       "  <thead>\n",
       "    <tr style=\"text-align: right;\">\n",
       "      <th></th>\n",
       "      <th>Fictional Surname</th>\n",
       "      <th>Age</th>\n",
       "      <th>Gender</th>\n",
       "      <th>Years at address</th>\n",
       "      <th>Employment status</th>\n",
       "      <th>Country</th>\n",
       "      <th>Current debt</th>\n",
       "      <th>Income</th>\n",
       "      <th>Own home</th>\n",
       "      <th>CCJs</th>\n",
       "      <th>Loan amount</th>\n",
       "      <th>Outcome</th>\n",
       "      <th>Fictional Name</th>\n",
       "    </tr>\n",
       "  </thead>\n",
       "  <tbody>\n",
       "    <tr>\n",
       "      <td>0</td>\n",
       "      <td>Miah</td>\n",
       "      <td>19</td>\n",
       "      <td>2</td>\n",
       "      <td>2</td>\n",
       "      <td>1</td>\n",
       "      <td>1</td>\n",
       "      <td>0</td>\n",
       "      <td>45500</td>\n",
       "      <td>1</td>\n",
       "      <td>1</td>\n",
       "      <td>13234</td>\n",
       "      <td>1</td>\n",
       "      <td>912</td>\n",
       "    </tr>\n",
       "    <tr>\n",
       "      <td>1</td>\n",
       "      <td>Hollis</td>\n",
       "      <td>66</td>\n",
       "      <td>2</td>\n",
       "      <td>13</td>\n",
       "      <td>1</td>\n",
       "      <td>1</td>\n",
       "      <td>1080</td>\n",
       "      <td>18000</td>\n",
       "      <td>2</td>\n",
       "      <td>0</td>\n",
       "      <td>5561</td>\n",
       "      <td>1</td>\n",
       "      <td>633</td>\n",
       "    </tr>\n",
       "    <tr>\n",
       "      <td>2</td>\n",
       "      <td>Barker</td>\n",
       "      <td>48</td>\n",
       "      <td>2</td>\n",
       "      <td>4</td>\n",
       "      <td>2</td>\n",
       "      <td>1</td>\n",
       "      <td>3690</td>\n",
       "      <td>47500</td>\n",
       "      <td>1</td>\n",
       "      <td>1</td>\n",
       "      <td>28288</td>\n",
       "      <td>1</td>\n",
       "      <td>82</td>\n",
       "    </tr>\n",
       "    <tr>\n",
       "      <td>3</td>\n",
       "      <td>Titford</td>\n",
       "      <td>67</td>\n",
       "      <td>2</td>\n",
       "      <td>47</td>\n",
       "      <td>2</td>\n",
       "      <td>1</td>\n",
       "      <td>6560</td>\n",
       "      <td>36000</td>\n",
       "      <td>3</td>\n",
       "      <td>0</td>\n",
       "      <td>30199</td>\n",
       "      <td>1</td>\n",
       "      <td>1311</td>\n",
       "    </tr>\n",
       "    <tr>\n",
       "      <td>4</td>\n",
       "      <td>Berry</td>\n",
       "      <td>70</td>\n",
       "      <td>1</td>\n",
       "      <td>8</td>\n",
       "      <td>2</td>\n",
       "      <td>1</td>\n",
       "      <td>9100</td>\n",
       "      <td>50500</td>\n",
       "      <td>2</td>\n",
       "      <td>0</td>\n",
       "      <td>35078</td>\n",
       "      <td>1</td>\n",
       "      <td>111</td>\n",
       "    </tr>\n",
       "  </tbody>\n",
       "</table>\n",
       "</div>"
      ],
      "text/plain": [
       "  Fictional Surname  Age Gender  Years at address Employment status Country  \\\n",
       "0              Miah   19      2                 2                 1       1   \n",
       "1            Hollis   66      2                13                 1       1   \n",
       "2            Barker   48      2                 4                 2       1   \n",
       "3           Titford   67      2                47                 2       1   \n",
       "4             Berry   70      1                 8                 2       1   \n",
       "\n",
       "   Current debt  Income Own home  CCJs  Loan amount Outcome  Fictional Name  \n",
       "0             0   45500        1     1        13234       1             912  \n",
       "1          1080   18000        2     0         5561       1             633  \n",
       "2          3690   47500        1     1        28288       1              82  \n",
       "3          6560   36000        3     0        30199       1            1311  \n",
       "4          9100   50500        2     0        35078       1             111  "
      ]
     },
     "execution_count": 35,
     "metadata": {},
     "output_type": "execute_result"
    }
   ],
   "source": [
    "df.head()"
   ]
  },
  {
   "cell_type": "code",
   "execution_count": 36,
   "metadata": {},
   "outputs": [],
   "source": [
    "df=df.drop('Fictional Surname',axis=1)"
   ]
  },
  {
   "cell_type": "code",
   "execution_count": 37,
   "metadata": {},
   "outputs": [
    {
     "data": {
      "text/html": [
       "<div>\n",
       "<style scoped>\n",
       "    .dataframe tbody tr th:only-of-type {\n",
       "        vertical-align: middle;\n",
       "    }\n",
       "\n",
       "    .dataframe tbody tr th {\n",
       "        vertical-align: top;\n",
       "    }\n",
       "\n",
       "    .dataframe thead th {\n",
       "        text-align: right;\n",
       "    }\n",
       "</style>\n",
       "<table border=\"1\" class=\"dataframe\">\n",
       "  <thead>\n",
       "    <tr style=\"text-align: right;\">\n",
       "      <th></th>\n",
       "      <th>Age</th>\n",
       "      <th>Gender</th>\n",
       "      <th>Years at address</th>\n",
       "      <th>Employment status</th>\n",
       "      <th>Country</th>\n",
       "      <th>Current debt</th>\n",
       "      <th>Income</th>\n",
       "      <th>Own home</th>\n",
       "      <th>CCJs</th>\n",
       "      <th>Loan amount</th>\n",
       "      <th>Outcome</th>\n",
       "      <th>Fictional Name</th>\n",
       "    </tr>\n",
       "  </thead>\n",
       "  <tbody>\n",
       "    <tr>\n",
       "      <td>0</td>\n",
       "      <td>19</td>\n",
       "      <td>2</td>\n",
       "      <td>2</td>\n",
       "      <td>1</td>\n",
       "      <td>1</td>\n",
       "      <td>0</td>\n",
       "      <td>45500</td>\n",
       "      <td>1</td>\n",
       "      <td>1</td>\n",
       "      <td>13234</td>\n",
       "      <td>1</td>\n",
       "      <td>912</td>\n",
       "    </tr>\n",
       "    <tr>\n",
       "      <td>1</td>\n",
       "      <td>66</td>\n",
       "      <td>2</td>\n",
       "      <td>13</td>\n",
       "      <td>1</td>\n",
       "      <td>1</td>\n",
       "      <td>1080</td>\n",
       "      <td>18000</td>\n",
       "      <td>2</td>\n",
       "      <td>0</td>\n",
       "      <td>5561</td>\n",
       "      <td>1</td>\n",
       "      <td>633</td>\n",
       "    </tr>\n",
       "    <tr>\n",
       "      <td>2</td>\n",
       "      <td>48</td>\n",
       "      <td>2</td>\n",
       "      <td>4</td>\n",
       "      <td>2</td>\n",
       "      <td>1</td>\n",
       "      <td>3690</td>\n",
       "      <td>47500</td>\n",
       "      <td>1</td>\n",
       "      <td>1</td>\n",
       "      <td>28288</td>\n",
       "      <td>1</td>\n",
       "      <td>82</td>\n",
       "    </tr>\n",
       "    <tr>\n",
       "      <td>3</td>\n",
       "      <td>67</td>\n",
       "      <td>2</td>\n",
       "      <td>47</td>\n",
       "      <td>2</td>\n",
       "      <td>1</td>\n",
       "      <td>6560</td>\n",
       "      <td>36000</td>\n",
       "      <td>3</td>\n",
       "      <td>0</td>\n",
       "      <td>30199</td>\n",
       "      <td>1</td>\n",
       "      <td>1311</td>\n",
       "    </tr>\n",
       "    <tr>\n",
       "      <td>4</td>\n",
       "      <td>70</td>\n",
       "      <td>1</td>\n",
       "      <td>8</td>\n",
       "      <td>2</td>\n",
       "      <td>1</td>\n",
       "      <td>9100</td>\n",
       "      <td>50500</td>\n",
       "      <td>2</td>\n",
       "      <td>0</td>\n",
       "      <td>35078</td>\n",
       "      <td>1</td>\n",
       "      <td>111</td>\n",
       "    </tr>\n",
       "  </tbody>\n",
       "</table>\n",
       "</div>"
      ],
      "text/plain": [
       "   Age Gender  Years at address Employment status Country  Current debt  \\\n",
       "0   19      2                 2                 1       1             0   \n",
       "1   66      2                13                 1       1          1080   \n",
       "2   48      2                 4                 2       1          3690   \n",
       "3   67      2                47                 2       1          6560   \n",
       "4   70      1                 8                 2       1          9100   \n",
       "\n",
       "   Income Own home  CCJs  Loan amount Outcome  Fictional Name  \n",
       "0   45500        1     1        13234       1             912  \n",
       "1   18000        2     0         5561       1             633  \n",
       "2   47500        1     1        28288       1              82  \n",
       "3   36000        3     0        30199       1            1311  \n",
       "4   50500        2     0        35078       1             111  "
      ]
     },
     "execution_count": 37,
     "metadata": {},
     "output_type": "execute_result"
    }
   ],
   "source": [
    "df.head()"
   ]
  },
  {
   "cell_type": "code",
   "execution_count": 38,
   "metadata": {},
   "outputs": [],
   "source": [
    "Features=df.drop('Outcome',axis=1)"
   ]
  },
  {
   "cell_type": "code",
   "execution_count": 39,
   "metadata": {},
   "outputs": [
    {
     "data": {
      "text/html": [
       "<div>\n",
       "<style scoped>\n",
       "    .dataframe tbody tr th:only-of-type {\n",
       "        vertical-align: middle;\n",
       "    }\n",
       "\n",
       "    .dataframe tbody tr th {\n",
       "        vertical-align: top;\n",
       "    }\n",
       "\n",
       "    .dataframe thead th {\n",
       "        text-align: right;\n",
       "    }\n",
       "</style>\n",
       "<table border=\"1\" class=\"dataframe\">\n",
       "  <thead>\n",
       "    <tr style=\"text-align: right;\">\n",
       "      <th></th>\n",
       "      <th>Age</th>\n",
       "      <th>Gender</th>\n",
       "      <th>Years at address</th>\n",
       "      <th>Employment status</th>\n",
       "      <th>Country</th>\n",
       "      <th>Current debt</th>\n",
       "      <th>Income</th>\n",
       "      <th>Own home</th>\n",
       "      <th>CCJs</th>\n",
       "      <th>Loan amount</th>\n",
       "      <th>Fictional Name</th>\n",
       "    </tr>\n",
       "  </thead>\n",
       "  <tbody>\n",
       "    <tr>\n",
       "      <td>0</td>\n",
       "      <td>19</td>\n",
       "      <td>2</td>\n",
       "      <td>2</td>\n",
       "      <td>1</td>\n",
       "      <td>1</td>\n",
       "      <td>0</td>\n",
       "      <td>45500</td>\n",
       "      <td>1</td>\n",
       "      <td>1</td>\n",
       "      <td>13234</td>\n",
       "      <td>912</td>\n",
       "    </tr>\n",
       "    <tr>\n",
       "      <td>1</td>\n",
       "      <td>66</td>\n",
       "      <td>2</td>\n",
       "      <td>13</td>\n",
       "      <td>1</td>\n",
       "      <td>1</td>\n",
       "      <td>1080</td>\n",
       "      <td>18000</td>\n",
       "      <td>2</td>\n",
       "      <td>0</td>\n",
       "      <td>5561</td>\n",
       "      <td>633</td>\n",
       "    </tr>\n",
       "    <tr>\n",
       "      <td>2</td>\n",
       "      <td>48</td>\n",
       "      <td>2</td>\n",
       "      <td>4</td>\n",
       "      <td>2</td>\n",
       "      <td>1</td>\n",
       "      <td>3690</td>\n",
       "      <td>47500</td>\n",
       "      <td>1</td>\n",
       "      <td>1</td>\n",
       "      <td>28288</td>\n",
       "      <td>82</td>\n",
       "    </tr>\n",
       "    <tr>\n",
       "      <td>3</td>\n",
       "      <td>67</td>\n",
       "      <td>2</td>\n",
       "      <td>47</td>\n",
       "      <td>2</td>\n",
       "      <td>1</td>\n",
       "      <td>6560</td>\n",
       "      <td>36000</td>\n",
       "      <td>3</td>\n",
       "      <td>0</td>\n",
       "      <td>30199</td>\n",
       "      <td>1311</td>\n",
       "    </tr>\n",
       "    <tr>\n",
       "      <td>4</td>\n",
       "      <td>70</td>\n",
       "      <td>1</td>\n",
       "      <td>8</td>\n",
       "      <td>2</td>\n",
       "      <td>1</td>\n",
       "      <td>9100</td>\n",
       "      <td>50500</td>\n",
       "      <td>2</td>\n",
       "      <td>0</td>\n",
       "      <td>35078</td>\n",
       "      <td>111</td>\n",
       "    </tr>\n",
       "    <tr>\n",
       "      <td>...</td>\n",
       "      <td>...</td>\n",
       "      <td>...</td>\n",
       "      <td>...</td>\n",
       "      <td>...</td>\n",
       "      <td>...</td>\n",
       "      <td>...</td>\n",
       "      <td>...</td>\n",
       "      <td>...</td>\n",
       "      <td>...</td>\n",
       "      <td>...</td>\n",
       "      <td>...</td>\n",
       "    </tr>\n",
       "    <tr>\n",
       "      <td>1995</td>\n",
       "      <td>60</td>\n",
       "      <td>2</td>\n",
       "      <td>4</td>\n",
       "      <td>2</td>\n",
       "      <td>1</td>\n",
       "      <td>2900</td>\n",
       "      <td>22500</td>\n",
       "      <td>2</td>\n",
       "      <td>1</td>\n",
       "      <td>15725</td>\n",
       "      <td>653</td>\n",
       "    </tr>\n",
       "    <tr>\n",
       "      <td>1996</td>\n",
       "      <td>24</td>\n",
       "      <td>2</td>\n",
       "      <td>7</td>\n",
       "      <td>2</td>\n",
       "      <td>1</td>\n",
       "      <td>5130</td>\n",
       "      <td>38000</td>\n",
       "      <td>2</td>\n",
       "      <td>0</td>\n",
       "      <td>35911</td>\n",
       "      <td>1107</td>\n",
       "    </tr>\n",
       "    <tr>\n",
       "      <td>1997</td>\n",
       "      <td>34</td>\n",
       "      <td>1</td>\n",
       "      <td>5</td>\n",
       "      <td>1</td>\n",
       "      <td>1</td>\n",
       "      <td>6530</td>\n",
       "      <td>41500</td>\n",
       "      <td>2</td>\n",
       "      <td>2</td>\n",
       "      <td>6874</td>\n",
       "      <td>130</td>\n",
       "    </tr>\n",
       "    <tr>\n",
       "      <td>1998</td>\n",
       "      <td>52</td>\n",
       "      <td>2</td>\n",
       "      <td>2</td>\n",
       "      <td>3</td>\n",
       "      <td>1</td>\n",
       "      <td>930</td>\n",
       "      <td>32500</td>\n",
       "      <td>2</td>\n",
       "      <td>0</td>\n",
       "      <td>5412</td>\n",
       "      <td>541</td>\n",
       "    </tr>\n",
       "    <tr>\n",
       "      <td>1999</td>\n",
       "      <td>42</td>\n",
       "      <td>1</td>\n",
       "      <td>3</td>\n",
       "      <td>2</td>\n",
       "      <td>1</td>\n",
       "      <td>10</td>\n",
       "      <td>49000</td>\n",
       "      <td>2</td>\n",
       "      <td>0</td>\n",
       "      <td>3835</td>\n",
       "      <td>701</td>\n",
       "    </tr>\n",
       "  </tbody>\n",
       "</table>\n",
       "<p>2000 rows × 11 columns</p>\n",
       "</div>"
      ],
      "text/plain": [
       "      Age Gender  Years at address Employment status Country  Current debt  \\\n",
       "0      19      2                 2                 1       1             0   \n",
       "1      66      2                13                 1       1          1080   \n",
       "2      48      2                 4                 2       1          3690   \n",
       "3      67      2                47                 2       1          6560   \n",
       "4      70      1                 8                 2       1          9100   \n",
       "...   ...    ...               ...               ...     ...           ...   \n",
       "1995   60      2                 4                 2       1          2900   \n",
       "1996   24      2                 7                 2       1          5130   \n",
       "1997   34      1                 5                 1       1          6530   \n",
       "1998   52      2                 2                 3       1           930   \n",
       "1999   42      1                 3                 2       1            10   \n",
       "\n",
       "      Income Own home  CCJs  Loan amount  Fictional Name  \n",
       "0      45500        1     1        13234             912  \n",
       "1      18000        2     0         5561             633  \n",
       "2      47500        1     1        28288              82  \n",
       "3      36000        3     0        30199            1311  \n",
       "4      50500        2     0        35078             111  \n",
       "...      ...      ...   ...          ...             ...  \n",
       "1995   22500        2     1        15725             653  \n",
       "1996   38000        2     0        35911            1107  \n",
       "1997   41500        2     2         6874             130  \n",
       "1998   32500        2     0         5412             541  \n",
       "1999   49000        2     0         3835             701  \n",
       "\n",
       "[2000 rows x 11 columns]"
      ]
     },
     "execution_count": 39,
     "metadata": {},
     "output_type": "execute_result"
    }
   ],
   "source": [
    "Features"
   ]
  },
  {
   "cell_type": "code",
   "execution_count": 41,
   "metadata": {},
   "outputs": [],
   "source": [
    "Label=df['Outcome']"
   ]
  },
  {
   "cell_type": "code",
   "execution_count": 50,
   "metadata": {},
   "outputs": [],
   "source": [
    "Label=Label.astype('int')"
   ]
  },
  {
   "cell_type": "code",
   "execution_count": 51,
   "metadata": {},
   "outputs": [
    {
     "data": {
      "text/plain": [
       "0       1\n",
       "1       1\n",
       "2       1\n",
       "3       1\n",
       "4       1\n",
       "       ..\n",
       "1995    1\n",
       "1996    1\n",
       "1997    1\n",
       "1998    1\n",
       "1999    2\n",
       "Name: Outcome, Length: 2000, dtype: int32"
      ]
     },
     "execution_count": 51,
     "metadata": {},
     "output_type": "execute_result"
    }
   ],
   "source": [
    "Label"
   ]
  },
  {
   "cell_type": "code",
   "execution_count": 52,
   "metadata": {},
   "outputs": [
    {
     "data": {
      "text/plain": [
       "array([1, 2], dtype=int64)"
      ]
     },
     "execution_count": 52,
     "metadata": {},
     "output_type": "execute_result"
    }
   ],
   "source": [
    "Label.unique()"
   ]
  },
  {
   "cell_type": "code",
   "execution_count": 53,
   "metadata": {},
   "outputs": [
    {
     "data": {
      "text/plain": [
       "array([2, 1, '1', '0'], dtype=object)"
      ]
     },
     "execution_count": 53,
     "metadata": {},
     "output_type": "execute_result"
    }
   ],
   "source": [
    "Features['Gender'].unique()"
   ]
  },
  {
   "cell_type": "code",
   "execution_count": 54,
   "metadata": {},
   "outputs": [],
   "source": [
    "X_train, X_test, y_train, y_test = train_test_split(Features, Label, test_size=0.20, random_state=424)"
   ]
  },
  {
   "cell_type": "code",
   "execution_count": 55,
   "metadata": {},
   "outputs": [],
   "source": [
    "from sklearn.linear_model import LogisticRegression\n",
    "from sklearn.metrics import confusion_matrix,accuracy_score"
   ]
  },
  {
   "cell_type": "code",
   "execution_count": 56,
   "metadata": {},
   "outputs": [],
   "source": [
    "clf=LogisticRegression()"
   ]
  },
  {
   "cell_type": "code",
   "execution_count": 57,
   "metadata": {},
   "outputs": [
    {
     "name": "stderr",
     "output_type": "stream",
     "text": [
      "C:\\Users\\DELL\\Anaconda3\\lib\\site-packages\\sklearn\\linear_model\\logistic.py:432: FutureWarning: Default solver will be changed to 'lbfgs' in 0.22. Specify a solver to silence this warning.\n",
      "  FutureWarning)\n"
     ]
    },
    {
     "data": {
      "text/plain": [
       "LogisticRegression(C=1.0, class_weight=None, dual=False, fit_intercept=True,\n",
       "                   intercept_scaling=1, l1_ratio=None, max_iter=100,\n",
       "                   multi_class='warn', n_jobs=None, penalty='l2',\n",
       "                   random_state=None, solver='warn', tol=0.0001, verbose=0,\n",
       "                   warm_start=False)"
      ]
     },
     "execution_count": 57,
     "metadata": {},
     "output_type": "execute_result"
    }
   ],
   "source": [
    "clf.fit(X_train, y_train)"
   ]
  },
  {
   "cell_type": "code",
   "execution_count": 58,
   "metadata": {},
   "outputs": [
    {
     "name": "stdout",
     "output_type": "stream",
     "text": [
      "PREDICCITED RESULTS::\n",
      "Defaulted\n",
      "Defaulted\n",
      "Paid\n",
      "Paid\n",
      "Defaulted\n",
      "Defaulted\n",
      "Defaulted\n",
      "Defaulted\n",
      "Defaulted\n",
      "Defaulted\n",
      "Paid\n",
      "Paid\n",
      "Paid\n",
      "Paid\n",
      "Defaulted\n",
      "Paid\n",
      "Paid\n",
      "Paid\n",
      "Defaulted\n",
      "Paid\n",
      "Paid\n",
      "Paid\n",
      "Defaulted\n",
      "Paid\n",
      "Paid\n",
      "Defaulted\n",
      "Defaulted\n",
      "Defaulted\n",
      "Paid\n",
      "Paid\n",
      "Paid\n",
      "Paid\n",
      "Paid\n",
      "Defaulted\n",
      "Defaulted\n",
      "Paid\n",
      "Paid\n",
      "Defaulted\n",
      "Defaulted\n",
      "Paid\n",
      "Paid\n",
      "Defaulted\n",
      "Defaulted\n",
      "Paid\n",
      "Defaulted\n",
      "Defaulted\n",
      "Defaulted\n",
      "Defaulted\n",
      "Defaulted\n",
      "Paid\n",
      "Paid\n",
      "Paid\n",
      "Paid\n",
      "Paid\n",
      "Paid\n",
      "Paid\n",
      "Defaulted\n",
      "Paid\n",
      "Paid\n",
      "Defaulted\n",
      "Paid\n",
      "Defaulted\n",
      "Paid\n",
      "Paid\n",
      "Paid\n",
      "Paid\n",
      "Defaulted\n",
      "Paid\n",
      "Paid\n",
      "Paid\n",
      "Paid\n",
      "Defaulted\n",
      "Defaulted\n",
      "Paid\n",
      "Paid\n",
      "Defaulted\n",
      "Paid\n",
      "Paid\n",
      "Paid\n",
      "Defaulted\n",
      "Defaulted\n",
      "Paid\n",
      "Paid\n",
      "Defaulted\n",
      "Defaulted\n",
      "Paid\n",
      "Paid\n",
      "Paid\n",
      "Defaulted\n",
      "Paid\n",
      "Paid\n",
      "Paid\n",
      "Paid\n",
      "Defaulted\n",
      "Defaulted\n",
      "Paid\n",
      "Defaulted\n",
      "Defaulted\n",
      "Defaulted\n",
      "Paid\n",
      "Paid\n",
      "Paid\n",
      "Defaulted\n",
      "Paid\n",
      "Defaulted\n",
      "Paid\n",
      "Paid\n",
      "Paid\n",
      "Paid\n",
      "Defaulted\n",
      "Defaulted\n",
      "Defaulted\n",
      "Paid\n",
      "Paid\n",
      "Paid\n",
      "Paid\n",
      "Defaulted\n",
      "Defaulted\n",
      "Paid\n",
      "Defaulted\n",
      "Paid\n",
      "Paid\n",
      "Defaulted\n",
      "Paid\n",
      "Defaulted\n",
      "Paid\n",
      "Paid\n",
      "Defaulted\n",
      "Defaulted\n",
      "Paid\n",
      "Defaulted\n",
      "Paid\n",
      "Paid\n",
      "Defaulted\n",
      "Paid\n",
      "Defaulted\n",
      "Paid\n",
      "Paid\n",
      "Paid\n",
      "Paid\n",
      "Paid\n",
      "Defaulted\n",
      "Defaulted\n",
      "Defaulted\n",
      "Defaulted\n",
      "Paid\n",
      "Paid\n",
      "Defaulted\n",
      "Paid\n",
      "Paid\n",
      "Defaulted\n",
      "Defaulted\n",
      "Paid\n",
      "Defaulted\n",
      "Paid\n",
      "Defaulted\n",
      "Paid\n",
      "Paid\n",
      "Paid\n",
      "Paid\n",
      "Defaulted\n",
      "Defaulted\n",
      "Defaulted\n",
      "Defaulted\n",
      "Paid\n",
      "Paid\n",
      "Paid\n",
      "Paid\n",
      "Paid\n",
      "Defaulted\n",
      "Defaulted\n",
      "Paid\n",
      "Paid\n",
      "Defaulted\n",
      "Defaulted\n",
      "Defaulted\n",
      "Paid\n",
      "Paid\n",
      "Paid\n",
      "Defaulted\n",
      "Paid\n",
      "Defaulted\n",
      "Paid\n",
      "Paid\n",
      "Paid\n",
      "Paid\n",
      "Defaulted\n",
      "Defaulted\n",
      "Defaulted\n",
      "Defaulted\n",
      "Paid\n",
      "Paid\n",
      "Paid\n",
      "Paid\n",
      "Defaulted\n",
      "Paid\n",
      "Paid\n",
      "Paid\n",
      "Paid\n",
      "Paid\n",
      "Defaulted\n",
      "Defaulted\n",
      "Paid\n",
      "Paid\n",
      "Defaulted\n",
      "Paid\n",
      "Paid\n",
      "Paid\n",
      "Paid\n",
      "Paid\n",
      "Paid\n",
      "Paid\n",
      "Paid\n",
      "Paid\n",
      "Paid\n",
      "Paid\n",
      "Paid\n",
      "Defaulted\n",
      "Paid\n",
      "Paid\n",
      "Paid\n",
      "Paid\n",
      "Paid\n",
      "Paid\n",
      "Defaulted\n",
      "Paid\n",
      "Defaulted\n",
      "Paid\n",
      "Defaulted\n",
      "Defaulted\n",
      "Defaulted\n",
      "Paid\n",
      "Paid\n",
      "Paid\n",
      "Paid\n",
      "Defaulted\n",
      "Paid\n",
      "Defaulted\n",
      "Defaulted\n",
      "Defaulted\n",
      "Defaulted\n",
      "Paid\n",
      "Defaulted\n",
      "Defaulted\n",
      "Paid\n",
      "Paid\n",
      "Defaulted\n",
      "Paid\n",
      "Paid\n",
      "Defaulted\n",
      "Paid\n",
      "Paid\n",
      "Paid\n",
      "Paid\n",
      "Paid\n",
      "Defaulted\n",
      "Paid\n",
      "Paid\n",
      "Paid\n",
      "Paid\n",
      "Defaulted\n",
      "Defaulted\n",
      "Paid\n",
      "Defaulted\n",
      "Paid\n",
      "Paid\n",
      "Paid\n",
      "Paid\n",
      "Defaulted\n",
      "Defaulted\n",
      "Paid\n",
      "Paid\n",
      "Paid\n",
      "Defaulted\n",
      "Paid\n",
      "Paid\n",
      "Defaulted\n",
      "Defaulted\n",
      "Paid\n",
      "Paid\n",
      "Defaulted\n",
      "Paid\n",
      "Paid\n",
      "Paid\n",
      "Paid\n",
      "Paid\n",
      "Paid\n",
      "Paid\n",
      "Defaulted\n",
      "Paid\n",
      "Paid\n",
      "Paid\n",
      "Paid\n",
      "Paid\n",
      "Defaulted\n",
      "Paid\n",
      "Paid\n",
      "Paid\n",
      "Paid\n",
      "Paid\n",
      "Defaulted\n",
      "Paid\n",
      "Defaulted\n",
      "Defaulted\n",
      "Defaulted\n",
      "Defaulted\n",
      "Defaulted\n",
      "Defaulted\n",
      "Paid\n",
      "Paid\n",
      "Paid\n",
      "Defaulted\n",
      "Paid\n",
      "Paid\n",
      "Paid\n",
      "Paid\n",
      "Paid\n",
      "Defaulted\n",
      "Defaulted\n",
      "Paid\n",
      "Paid\n",
      "Paid\n",
      "Paid\n",
      "Defaulted\n",
      "Defaulted\n",
      "Defaulted\n",
      "Paid\n",
      "Paid\n",
      "Paid\n",
      "Defaulted\n",
      "Paid\n",
      "Defaulted\n",
      "Paid\n",
      "Paid\n",
      "Defaulted\n",
      "Paid\n",
      "Paid\n",
      "Paid\n",
      "Paid\n",
      "Paid\n",
      "Defaulted\n",
      "Defaulted\n",
      "Paid\n",
      "Defaulted\n",
      "Paid\n",
      "Paid\n",
      "Paid\n",
      "Paid\n",
      "Paid\n",
      "Defaulted\n",
      "Paid\n",
      "Paid\n",
      "Paid\n",
      "Defaulted\n",
      "Paid\n",
      "Defaulted\n",
      "Defaulted\n",
      "Defaulted\n",
      "Defaulted\n",
      "Paid\n",
      "Defaulted\n",
      "Paid\n",
      "Defaulted\n",
      "Paid\n",
      "Paid\n",
      "Paid\n",
      "Paid\n",
      "Paid\n",
      "Paid\n",
      "Defaulted\n",
      "Paid\n",
      "Paid\n",
      "Paid\n",
      "Defaulted\n",
      "Defaulted\n",
      "Paid\n",
      "Defaulted\n",
      "Paid\n",
      "Paid\n",
      "Defaulted\n",
      "Paid\n",
      "Paid\n",
      "Defaulted\n",
      "Defaulted\n",
      "Defaulted\n",
      "Paid\n",
      "Defaulted\n",
      "Defaulted\n",
      "Defaulted\n",
      "Paid\n",
      "Defaulted\n",
      "Defaulted\n",
      "Paid\n",
      "Paid\n",
      "Paid\n",
      "Defaulted\n",
      "Defaulted\n",
      "Paid\n",
      "Paid\n",
      "Paid\n"
     ]
    }
   ],
   "source": [
    "predicted= clf.predict(X_test)\n",
    "print(\"PREDICCITED RESULTS::\")\n",
    "for i in predicted:\n",
    "    if i==1:\n",
    "        print(\"Paid\")\n",
    "    else:\n",
    "        print(\"Defaulted\")"
   ]
  },
  {
   "cell_type": "code",
   "execution_count": 59,
   "metadata": {},
   "outputs": [
    {
     "name": "stdout",
     "output_type": "stream",
     "text": [
      "[[173  46]\n",
      " [ 73 108]]\n"
     ]
    }
   ],
   "source": [
    "cm = metrics.confusion_matrix(y_test, predicted)\n",
    "print(cm)"
   ]
  },
  {
   "cell_type": "code",
   "execution_count": 60,
   "metadata": {},
   "outputs": [
    {
     "data": {
      "text/plain": [
       "Text(0.5, 257.44, 'Predicted label')"
      ]
     },
     "execution_count": 60,
     "metadata": {},
     "output_type": "execute_result"
    },
    {
     "data": {
      "image/png": "[encoded data removed]",
      "text/plain": [
       "<Figure size 432x288 with 2 Axes>"
      ]
     },
     "metadata": {
      "needs_background": "light"
     },
     "output_type": "display_data"
    }
   ],
   "source": [
    "class_names=[0,1] # name  of classes\n",
    "fig, ax = plt.subplots()\n",
    "tick_marks = np.arange(len(class_names))\n",
    "plt.xticks(tick_marks, class_names)\n",
    "plt.yticks(tick_marks, class_names)\n",
    "# create heatmap\n",
    "sns.heatmap(pd.DataFrame(cm), annot=True, cmap=\"YlGnBu\" ,fmt='g')\n",
    "ax.xaxis.set_label_position(\"top\")\n",
    "plt.tight_layout()\n",
    "plt.title('Confusion matrix', y=1.1)\n",
    "plt.ylabel('Actual label')\n",
    "plt.xlabel('Predicted label')"
   ]
  },
  {
   "cell_type": "code",
   "execution_count": 61,
   "metadata": {},
   "outputs": [
    {
     "data": {
      "image/png": "[encoded data removed]",
      "text/plain": [
       "<Figure size 576x576 with 1 Axes>"
      ]
     },
     "metadata": {
      "needs_background": "light"
     },
     "output_type": "display_data"
    }
   ],
   "source": [
    "fig, ax = plt.subplots(figsize=(8, 8))\n",
    "ax.imshow(cm)\n",
    "ax.grid(False)\n",
    "ax.xaxis.set(ticks=(0, 1), ticklabels=('Predicted 0s', 'Predicted 1s'))\n",
    "ax.yaxis.set(ticks=(0, 1), ticklabels=('Actual 0s', 'Actual 1s'))\n",
    "ax.set_ylim(1.5, -0.5)\n",
    "for i in range(2):\n",
    "    for j in range(2):\n",
    "        ax.text(j, i, cm[i, j], ha='center', va='center', color='red')\n",
    "plt.show()"
   ]
  },
  {
   "cell_type": "code",
   "execution_count": 62,
   "metadata": {},
   "outputs": [
    {
     "data": {
      "text/plain": [
       "70.25"
      ]
     },
     "execution_count": 62,
     "metadata": {},
     "output_type": "execute_result"
    }
   ],
   "source": [
    "sa=accuracy_score(y_test, predicted)*100\n",
    "sa"
   ]
  },
  {
   "cell_type": "code",
   "execution_count": 63,
   "metadata": {},
   "outputs": [],
   "source": [
    "from sklearn import tree"
   ]
  },
  {
   "cell_type": "code",
   "execution_count": 64,
   "metadata": {},
   "outputs": [],
   "source": [
    "tr = tree.DecisionTreeClassifier()"
   ]
  },
  {
   "cell_type": "code",
   "execution_count": 65,
   "metadata": {},
   "outputs": [
    {
     "data": {
      "text/plain": [
       "DecisionTreeClassifier(class_weight=None, criterion='gini', max_depth=None,\n",
       "                       max_features=None, max_leaf_nodes=None,\n",
       "                       min_impurity_decrease=0.0, min_impurity_split=None,\n",
       "                       min_samples_leaf=1, min_samples_split=2,\n",
       "                       min_weight_fraction_leaf=0.0, presort=False,\n",
       "                       random_state=None, splitter='best')"
      ]
     },
     "execution_count": 65,
     "metadata": {},
     "output_type": "execute_result"
    }
   ],
   "source": [
    "tr.fit(X_train, y_train)"
   ]
  },
  {
   "cell_type": "code",
   "execution_count": 66,
   "metadata": {},
   "outputs": [],
   "source": [
    "result=tr.predict(X_test)"
   ]
  },
  {
   "cell_type": "code",
   "execution_count": 67,
   "metadata": {},
   "outputs": [
    {
     "name": "stdout",
     "output_type": "stream",
     "text": [
      "[[161  58]\n",
      " [ 62 119]]\n"
     ]
    }
   ],
   "source": [
    "cm = metrics.confusion_matrix(y_test, result)\n",
    "print(cm)"
   ]
  },
  {
   "cell_type": "code",
   "execution_count": 68,
   "metadata": {},
   "outputs": [
    {
     "data": {
      "image/png": "[encoded data removed]",
      "text/plain": [
       "<Figure size 576x576 with 1 Axes>"
      ]
     },
     "metadata": {
      "needs_background": "light"
     },
     "output_type": "display_data"
    }
   ],
   "source": [
    "fig, ax = plt.subplots(figsize=(8, 8))\n",
    "ax.imshow(cm)\n",
    "ax.grid(False)\n",
    "ax.xaxis.set(ticks=(0, 1), ticklabels=('Predicted 0s', 'Predicted 1s'))\n",
    "ax.yaxis.set(ticks=(0, 1), ticklabels=('Actual 0s', 'Actual 1s'))\n",
    "ax.set_ylim(1.5, -0.5)\n",
    "for i in range(2):\n",
    "    for j in range(2):\n",
    "        ax.text(j, i, cm[i, j], ha='center', va='center', color='red')\n",
    "plt.show()"
   ]
  },
  {
   "cell_type": "code",
   "execution_count": 69,
   "metadata": {},
   "outputs": [
    {
     "data": {
      "text/plain": [
       "70.0"
      ]
     },
     "execution_count": 69,
     "metadata": {},
     "output_type": "execute_result"
    }
   ],
   "source": [
    "accuracy_score(y_test, result)*100"
   ]
  },
  {
   "cell_type": "code",
   "execution_count": 70,
   "metadata": {},
   "outputs": [],
   "source": [
    "X_train=np.asarray(X_train).astype(np.int)\n",
    "X_test=np.asarray(X_test).astype(np.int)\n",
    "y_train=np.asarray(y_train).astype(np.int)"
   ]
  },
  {
   "cell_type": "code",
   "execution_count": 71,
   "metadata": {},
   "outputs": [],
   "source": [
    "import tensorflow as tf"
   ]
  },
  {
   "cell_type": "code",
   "execution_count": 72,
   "metadata": {},
   "outputs": [],
   "source": [
    "from tensorflow.keras import Sequential\n",
    "from tensorflow.keras.layers import Dense"
   ]
  },
  {
   "cell_type": "code",
   "execution_count": 76,
   "metadata": {},
   "outputs": [],
   "source": [
    "model=Sequential()\n",
    "model.add(Dense(16, input_dim=11,activation='relu'))\n",
    "model.add(Dense(12, activation='relu'))\n",
    "model.add(Dense(12, activation='relu'))\n",
    "model.add(Dense(12, activation='relu'))\n",
    "model.add(Dense(12, activation='relu'))\n",
    "model.add(Dense(12, activation='relu'))\n",
    "model.add(Dense(12, activation='relu'))\n",
    "model.add(Dense(12, activation='relu'))\n",
    "model.add(Dense(1, activation='sigmoid'))"
   ]
  },
  {
   "cell_type": "code",
   "execution_count": 77,
   "metadata": {},
   "outputs": [],
   "source": [
    "model.compile(loss='binary_crossentropy',optimizer='adam',metrics=['accuracy'])"
   ]
  },
  {
   "cell_type": "code",
   "execution_count": 78,
   "metadata": {},
   "outputs": [
    {
     "name": "stdout",
     "output_type": "stream",
     "text": [
      "Train on 1600 samples\n",
      "Epoch 1/10\n",
      "1600/1600 [==============================] - 1s 728us/sample - loss: -114753.7740 - accuracy: 0.5200\n",
      "Epoch 2/10\n",
      "1600/1600 [==============================] - 0s 184us/sample - loss: -473010993.6910 - accuracy: 0.5619\n",
      "Epoch 3/10\n",
      "1600/1600 [==============================] - 0s 178us/sample - loss: -67447327488.0000 - accuracy: 0.5619\n",
      "Epoch 4/10\n",
      "1600/1600 [==============================] - 0s 179us/sample - loss: -1933546789990.3999 - accuracy: 0.5619\n",
      "Epoch 5/10\n",
      "1600/1600 [==============================] - 0s 184us/sample - loss: -22492264766668.8008 - accuracy: 0.5619\n",
      "Epoch 6/10\n",
      "1600/1600 [==============================] - 0s 179us/sample - loss: -155353405731635.1875 - accuracy: 0.5619\n",
      "Epoch 7/10\n",
      "1600/1600 [==============================] - 0s 204us/sample - loss: -701221969159782.3750 - accuracy: 0.5619\n",
      "Epoch 8/10\n",
      "1600/1600 [==============================] - 0s 200us/sample - loss: -2500445127416217.5000 - accuracy: 0.5619\n",
      "Epoch 9/10\n",
      "1600/1600 [==============================] - 0s 196us/sample - loss: -7484583398342656.0000 - accuracy: 0.5619\n",
      "Epoch 10/10\n",
      "1600/1600 [==============================] - 0s 191us/sample - loss: -19681710523075788.0000 - accuracy: 0.5619\n"
     ]
    }
   ],
   "source": [
    "history=model.fit(X_train,y_train,epochs=10,batch_size=10)"
   ]
  },
  {
   "cell_type": "code",
   "execution_count": 79,
   "metadata": {},
   "outputs": [],
   "source": [
    "y_pred=model.predict(X_test)"
   ]
  },
  {
   "cell_type": "code",
   "execution_count": 80,
   "metadata": {},
   "outputs": [
    {
     "name": "stdout",
     "output_type": "stream",
     "text": [
      "[[219   0]\n",
      " [181   0]]\n"
     ]
    }
   ],
   "source": [
    "cm = metrics.confusion_matrix(y_test, y_pred)\n",
    "print(cm)"
   ]
  },
  {
   "cell_type": "code",
   "execution_count": 81,
   "metadata": {},
   "outputs": [
    {
     "data": {
      "image/png": "[encoded data removed]",
      "text/plain": [
       "<Figure size 576x576 with 1 Axes>"
      ]
     },
     "metadata": {
      "needs_background": "light"
     },
     "output_type": "display_data"
    }
   ],
   "source": [
    "fig, ax = plt.subplots(figsize=(8, 8))\n",
    "ax.imshow(cm)\n",
    "ax.grid(False)\n",
    "ax.xaxis.set(ticks=(0, 1), ticklabels=('Predicted 0s', 'Predicted 1s'))\n",
    "ax.yaxis.set(ticks=(0, 1), ticklabels=('Actual 0s', 'Actual 1s'))\n",
    "ax.set_ylim(1.5, -0.5)\n",
    "for i in range(2):\n",
    "    for j in range(2):\n",
    "        ax.text(j, i, cm[i, j], ha='center', va='center', color='red')\n",
    "plt.show()"
   ]
  },
  {
   "cell_type": "code",
   "execution_count": 82,
   "metadata": {},
   "outputs": [
    {
     "name": "stdout",
     "output_type": "stream",
     "text": [
      "54.75\n"
     ]
    }
   ],
   "source": [
    "a= accuracy_score(y_pred,y_test)\n",
    "print(a*100)"
   ]
  }
 ],
 "metadata": {
  "kernelspec": {
   "display_name": "Python 3",
   "language": "python",
   "name": "python3"
  },
  "language_info": {
   "codemirror_mode": {
    "name": "ipython",
    "version": 3
   },
   "file_extension": ".py",
   "mimetype": "text/x-python",
   "name": "python",
   "nbconvert_exporter": "python",
   "pygments_lexer": "ipython3",
   "version": "3.7.4"
  }
 },
 "nbformat": 4,
 "nbformat_minor": 2
}
